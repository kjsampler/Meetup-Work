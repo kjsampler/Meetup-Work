{
 "cells": [
  {
   "cell_type": "markdown",
   "metadata": {},
   "source": [
    "Given a number between 0 and 1 trillion, please spell the number in English"
   ]
  },
  {
   "cell_type": "markdown",
   "metadata": {},
   "source": [
    "Ex. for 997 return nine hundred ninety seven"
   ]
  },
  {
   "cell_type": "code",
   "execution_count": 6,
   "metadata": {},
   "outputs": [
    {
     "name": "stdout",
     "output_type": "stream",
     "text": [
      "997\n",
      "nine hundred ninety seven\n"
     ]
    }
   ],
   "source": [
    "n = int(input())\n",
    "\n",
    "my_dict = {0:'zero', 1:'one', 2:'two',\n",
    "          3:'three', 4:'four', 5:'five',\n",
    "          6:'six', 7:'seven', 8:'eight',\n",
    "          9:'nine', 10:'ten'}\n",
    "place_dict = {1:'trillion', 2:'billion', 3:'million', 4:'thousand', 5:'hundred'}\n",
    "\n",
    "tens_dict = {2:'twenty', 3:'thirty', 4:'forty',\n",
    "            5:'fifty', 6:'sixty', 7:'seventy',\n",
    "            8:'eighty', 9:'ninety'}\n",
    "teens_dict = {11:'eleven', 12:'twelve', 13:'thirteen',\n",
    "             14:'fourteen', 15:'fifteen', 16:'sixteen', 17:'seventeen',\n",
    "             18:'eighteen', 19:'nineteen'}\n",
    "print(my_dict[9] + ' ' +place_dict[5] + ' ' + tens_dict[9] + ' ' + my_dict[7])"
   ]
  },
  {
   "cell_type": "code",
   "execution_count": null,
   "metadata": {},
   "outputs": [],
   "source": []
  }
 ],
 "metadata": {
  "kernelspec": {
   "display_name": "Python 3",
   "language": "python",
   "name": "python3"
  },
  "language_info": {
   "codemirror_mode": {
    "name": "ipython",
    "version": 3
   },
   "file_extension": ".py",
   "mimetype": "text/x-python",
   "name": "python",
   "nbconvert_exporter": "python",
   "pygments_lexer": "ipython3",
   "version": "3.8.5"
  }
 },
 "nbformat": 4,
 "nbformat_minor": 4
}
