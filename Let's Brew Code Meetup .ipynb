{
 "cells": [
  {
   "cell_type": "markdown",
   "metadata": {},
   "source": [
    "Given a number between 0 and 1 trillion, please spell the number in English"
   ]
  },
  {
   "cell_type": "markdown",
   "metadata": {},
   "source": [
    "Ex. for 997 return nine hundred ninety seven"
   ]
  },
  {
   "cell_type": "code",
   "execution_count": 3,
   "metadata": {},
   "outputs": [],
   "source": [
    "my_dict = {0:'zero', 1:'one', 2:'two',\n",
    "          3:'three', 4:'four', 5:'five',\n",
    "          6:'six', 7:'seven', 8:'eight',\n",
    "          9:'nine', 10:'ten'}\n",
    "place_dict = {1:'trillion', 2:'billion', 3:'million', 4:'thousand', 5:'hundred'}\n",
    "\n",
    "tens_dict = {2:'twenty', 3:'thirty', 4:'forty',\n",
    "            5:'fifty', 6:'sixty', 7:'seventy',\n",
    "            8:'eighty', 9:'ninety'}\n",
    "teens_dict = {11:'eleven', 12:'twelve', 13:'thirteen',\n",
    "             14:'fourteen', 15:'fifteen', 16:'sixteen', 17:'seventeen',\n",
    "             18:'eighteen', 19:'nineteen'}"
   ]
  },
  {
   "cell_type": "code",
   "execution_count": 31,
   "metadata": {},
   "outputs": [
    {
     "name": "stdout",
     "output_type": "stream",
     "text": [
      "17\n",
      "seventeen\n"
     ]
    }
   ],
   "source": [
    "k = input()\n",
    "if len(k) == 3:\n",
    "    print(my_dict[int(k[0])]+ ' ' + place_dict[5] + ' ' + tens_dict[int(k[1])] + ' ' + my_dict[int(k[2])])\n",
    "if len(k) == 2:\n",
    "    if int(k) < 20:\n",
    "        print(teens_dict[int(k)])\n",
    "    else:\n",
    "        print(tens_dict[int(k[0])] + ' ' + my_dict[int(k[1])])\n",
    "if len(k) == 1:\n",
    "    print(my_dict[int(k[0])])"
   ]
  },
  {
   "cell_type": "code",
   "execution_count": 35,
   "metadata": {},
   "outputs": [
    {
     "name": "stdout",
     "output_type": "stream",
     "text": [
      "123123\n",
      "[['1', '2', '3'], ['1', '2', '3']]\n"
     ]
    }
   ],
   "source": [
    "k = input()\n",
    "#1,000,000,000,000\n",
    "#354,000,000,000\n",
    "tuples = []\n",
    "if 0 <= int(k) <= 1000000000000:\n",
    "    if len(k) == 13:\n",
    "        print(\"One trillion\")\n",
    "    if len(k) == 12:\n",
    "        tuples.append([k[0], k[1], k[2]])\n",
    "        tuples.append([k[3], k[4], k[5]])\n",
    "        tuples.append([k[6], k[7], k[8]])\n",
    "        tuples.append([k[9], k[10], k[11]])\n",
    "    if len(k) == 9:\n",
    "        tuples.append([k[0], k[1], k[2]])\n",
    "        tuples.append([k[3], k[4], k[5]])\n",
    "        tuples.append([k[6], k[7], k[8]])\n",
    "    if len(k) == 6:\n",
    "        tuples.append([k[0], k[1], k[2]])\n",
    "        tuples.append([k[3], k[4], k[5]])\n",
    "    if len(k) == 3:\n",
    "        tuples.append(k[0], k[1], k[2])\n",
    "#thought process break:\n",
    "##each place is going to a 3 digit number with the place setting added\n",
    "##i need to figure out how to deal with places that are not full 3 digit numbers (ie. 54,000)\n",
    "###once i have that code figured out, i've got this licked "
   ]
  },
  {
   "cell_type": "code",
   "execution_count": null,
   "metadata": {},
   "outputs": [],
   "source": []
  }
 ],
 "metadata": {
  "kernelspec": {
   "display_name": "Python 3",
   "language": "python",
   "name": "python3"
  },
  "language_info": {
   "codemirror_mode": {
    "name": "ipython",
    "version": 3
   },
   "file_extension": ".py",
   "mimetype": "text/x-python",
   "name": "python",
   "nbconvert_exporter": "python",
   "pygments_lexer": "ipython3",
   "version": "3.7.3"
  }
 },
 "nbformat": 4,
 "nbformat_minor": 4
}
