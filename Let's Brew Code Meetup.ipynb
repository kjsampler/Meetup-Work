{
 "cells": [
  {
   "cell_type": "markdown",
   "metadata": {},
   "source": [
    "Given a number between 0 and 1 trillion, please spell the number in English"
   ]
  },
  {
   "cell_type": "markdown",
   "metadata": {},
   "source": [
    "Ex. for 997 return nine hundred ninety seven"
   ]
  },
  {
   "cell_type": "code",
   "execution_count": 85,
   "metadata": {},
   "outputs": [],
   "source": [
    "my_dict = {0:'zero', 1:'one', 2:'two',\n",
    "          3:'three', 4:'four', 5:'five',\n",
    "          6:'six', 7:'seven', 8:'eight',\n",
    "          9:'nine', 10:'ten'}\n",
    "place_dict = {1:'trillion', 2:'billion', 3:'million', 4:'thousand', 5:'hundred'}\n",
    "\n",
    "tens_dict = {2:'twenty', 3:'thirty', 4:'forty',\n",
    "            5:'fifty', 6:'sixty', 7:'seventy',\n",
    "            8:'eighty', 9:'ninety'}\n",
    "teens_dict = {11:'eleven', 12:'twelve', 13:'thirteen',\n",
    "             14:'fourteen', 15:'fifteen', 16:'sixteen', 17:'seventeen',\n",
    "             18:'eighteen', 19:'nineteen'}"
   ]
  },
  {
   "cell_type": "code",
   "execution_count": 86,
   "metadata": {},
   "outputs": [
    {
     "name": "stdout",
     "output_type": "stream",
     "text": [
      "0\n",
      "zero\n"
     ]
    }
   ],
   "source": [
    "k = input()\n",
    "if len(k) == 3:\n",
    "    print(my_dict[int(k[0])]+ ' ' + place_dict[5] + ' ' + tens_dict[int(k[1])] + ' ' + my_dict[int(k[2])])\n",
    "if len(k) == 2:\n",
    "    if int(k) < 20:\n",
    "        print(teens_dict[int(k)])\n",
    "    else:\n",
    "        print(tens_dict[int(k[0])] + ' ' + my_dict[int(k[1])])\n",
    "if len(k) == 1:\n",
    "    print(my_dict[int(k)])"
   ]
  },
  {
   "cell_type": "code",
   "execution_count": null,
   "metadata": {},
   "outputs": [],
   "source": [
    "def print_english():\n",
    "    num = input()\n",
    "    my_list = divisible_list(num)\n",
    "    tuples = tuple_generator(my_list)\n",
    "    \n",
    "    return tuples"
   ]
  },
  {
   "cell_type": "code",
   "execution_count": null,
   "metadata": {},
   "outputs": [],
   "source": [
    "print_english()"
   ]
  },
  {
   "cell_type": "code",
   "execution_count": null,
   "metadata": {},
   "outputs": [],
   "source": [
    "#thought process break: \n",
    "# I now have my tuples. now to throw it all together.\n",
    "# get function running without error"
   ]
  },
  {
   "cell_type": "code",
   "execution_count": 22,
   "metadata": {},
   "outputs": [
    {
     "name": "stdout",
     "output_type": "stream",
     "text": [
      "123\n",
      "[1, 2, 3]\n"
     ]
    }
   ],
   "source": [
    "k = input()\n",
    "#1,000,000,000,000\n",
    "#354,000,000,000\n",
    "tuples = []\n",
    "my_list = []\n",
    "if 0 <= int(k) <= 1000000000000:\n",
    "#     if len(k) == 13:\n",
    "#         print(\"One trillion\")\n",
    "#     if k == 0:\n",
    "#         print(\"Zero\")\n",
    "    for i in range(len(k)):\n",
    "        my_list.append(int(k[i]))\n",
    "    if len(my_list) % 3 == 0:\n",
    "        tuples.append([])\n",
    "print(my_list)"
   ]
  },
  {
   "cell_type": "code",
   "execution_count": 103,
   "metadata": {},
   "outputs": [],
   "source": [
    "def tuple_generator(list_):\n",
    "    '''A function to take in a list and split \n",
    "    the list into tuples in sets of 3'''\n",
    "    tuples = []\n",
    "    n = len(list_) // 3\n",
    "    num_list = []\n",
    "    for i in range(len(list_)):\n",
    "        num_list.append(list_[i])\n",
    "    for t in range(n):\n",
    "        tuples.append([num_list[t], num_list[t+1], num_list[t+2]])\n",
    "        num_list.pop(0)\n",
    "        num_list.pop(0)\n",
    "    return tuples"
   ]
  },
  {
   "cell_type": "code",
   "execution_count": 75,
   "metadata": {},
   "outputs": [
    {
     "data": {
      "text/plain": [
       "[2, 3, 4, 5, 6]"
      ]
     },
     "execution_count": 75,
     "metadata": {},
     "output_type": "execute_result"
    }
   ],
   "source": [
    "list_ = [1, 2, 3, 4, 5, 6]\n",
    "list_.pop(0)\n",
    "list_"
   ]
  },
  {
   "cell_type": "code",
   "execution_count": 80,
   "metadata": {},
   "outputs": [
    {
     "name": "stdout",
     "output_type": "stream",
     "text": [
      "[[1, 2, 3], [4, 5, 6], [0, 9, 0]]\n"
     ]
    }
   ],
   "source": [
    "list_ = [1, 2, 3, 4, 5, 6, 0, 9, 0]\n",
    "tuples = []\n",
    "\n",
    "n = len(list_) // 3\n",
    "# list_[0], list_[1], list_[2]\n",
    "# list_[3], list_[4], list_[5]\n",
    "# list_[6], list_[7], list_[8]\n",
    "for t in range(n):\n",
    "    tuples.append([list_[t], list_[t+1], list_[t+2]])\n",
    "    list_.pop(0)\n",
    "    list_.pop(0)\n",
    "print(tuples)"
   ]
  },
  {
   "cell_type": "code",
   "execution_count": 93,
   "metadata": {},
   "outputs": [],
   "source": [
    "def divisible_list(list_):\n",
    "    ''' A function to take in a list and return \n",
    "    a list that is divisible by three'''\n",
    "\n",
    "    if len(list_) % 3 == 2:\n",
    "        list_.insert(0, 0)\n",
    "    if len(list_) % 3 == 1:\n",
    "        list_.insert(0, 0)\n",
    "        list_.insert(0, 0)\n",
    "    return list_"
   ]
  },
  {
   "cell_type": "code",
   "execution_count": null,
   "metadata": {},
   "outputs": [],
   "source": []
  }
 ],
 "metadata": {
  "kernelspec": {
   "display_name": "Python 3",
   "language": "python",
   "name": "python3"
  },
  "language_info": {
   "codemirror_mode": {
    "name": "ipython",
    "version": 3
   },
   "file_extension": ".py",
   "mimetype": "text/x-python",
   "name": "python",
   "nbconvert_exporter": "python",
   "pygments_lexer": "ipython3",
   "version": "3.7.3"
  }
 },
 "nbformat": 4,
 "nbformat_minor": 4
}
