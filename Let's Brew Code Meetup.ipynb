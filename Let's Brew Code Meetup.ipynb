{
 "cells": [
  {
   "cell_type": "markdown",
   "metadata": {},
   "source": [
    "Given a number between 0 and 1 trillion, please spell the number in English"
   ]
  },
  {
   "cell_type": "markdown",
   "metadata": {},
   "source": [
    "Ex. for 997 return \"nine hundred ninety seven\""
   ]
  },
  {
   "cell_type": "code",
   "execution_count": 117,
   "metadata": {},
   "outputs": [],
   "source": [
    "my_dict = {0:'zero', 1:'one', 2:'two',\n",
    "          3:'three', 4:'four', 5:'five',\n",
    "          6:'six', 7:'seven', 8:'eight',\n",
    "          9:'nine', 10:'ten'}\n",
    "place_dict = {5:'trillion', 4:'billion', 3:'million', 2:'thousand', 1:'hundred'}\n",
    "\n",
    "tens_dict = {2:'twenty', 3:'thirty', 4:'forty',\n",
    "            5:'fifty', 6:'sixty', 7:'seventy',\n",
    "            8:'eighty', 9:'ninety'}\n",
    "teens_dict = {1:'eleven', 2:'twelve', 3:'thirteen',\n",
    "             4:'fourteen', 5:'fifteen', 6:'sixteen', 7:'seventeen',\n",
    "             8:'eighteen', 9:'nineteen'}"
   ]
  },
  {
   "cell_type": "code",
   "execution_count": 109,
   "metadata": {},
   "outputs": [],
   "source": [
    "def tuple_generator(list_):\n",
    "    '''A function to take in a list and split \n",
    "    the list into tuples in sets of 3'''\n",
    "    tuples = []\n",
    "    n = len(list_) // 3\n",
    "    num_list = []\n",
    "    for i in range(len(list_)):\n",
    "        num_list.append(list_[i])\n",
    "    for t in range(n):\n",
    "        tuples.append([num_list[t], num_list[t+1], num_list[t+2]])\n",
    "        num_list.pop(0)\n",
    "        num_list.pop(0)\n",
    "    return tuples"
   ]
  },
  {
   "cell_type": "code",
   "execution_count": 110,
   "metadata": {},
   "outputs": [],
   "source": [
    "def divisible_list(list_):\n",
    "    ''' A function to take in a list and return \n",
    "    a list that is divisible by three'''\n",
    "\n",
    "    if len(list_) % 3 == 2:\n",
    "        list_.insert(0, 0)\n",
    "    if len(list_) % 3 == 1:\n",
    "        list_.insert(0, 0)\n",
    "        list_.insert(0, 0)\n",
    "    return list_"
   ]
  },
  {
   "cell_type": "code",
   "execution_count": 152,
   "metadata": {},
   "outputs": [],
   "source": [
    "def print_english(num):\n",
    "    list_ = []\n",
    "    if 0 <= len(num) <= 13:\n",
    "        if num == '0':\n",
    "            return my_dict[0]\n",
    "        if num == '1000000000000':\n",
    "            return my_dict[1]+' '+place_dict[1]\n",
    "    for i in num:\n",
    "        list_.append(i)\n",
    "    my_list = divisible_list(list_)\n",
    "    tuples = tuple_generator(my_list)\n",
    "    hundred_list = []\n",
    "    for i in range(len(tuples)):\n",
    "        if tuples[i][0] == 0:\n",
    "            if tuples[i][1] == 0:\n",
    "                hundred_list.append(my_dict[int(tuples[i][2])])\n",
    "            else:\n",
    "                if tuples[i][1] == '1':\n",
    "                    hundred_list.append(teens_dict[int(tuples[i][2])])\n",
    "                else:\n",
    "                    hundred_list.append(tens_dict[int(tuples[i][1])]+' '+my_dict[int(tuples[i][2])])\n",
    "        else:\n",
    "            if tuples[i][1] == '1':\n",
    "                hundred_list.append(my_dict[int(tuples[i][0])]+' '+place_dict[1]+' '+teens_dict[int(tuples[i][2])])\n",
    "            else:\n",
    "                hundred_list.append(my_dict[int(tuples[i][0])]+' '+place_dict[1]+' '+\n",
    "                                    tens_dict[int(tuples[i][1])]+' '+my_dict[int(tuples[i][2])])\n",
    "    hundred_list.reverse()        \n",
    "    final = []\n",
    "    for k in range(len(hundred_list)):\n",
    "        if k == 0:\n",
    "            final.append(hundred_list[k]+' ')\n",
    "        else:\n",
    "            final.append(hundred_list[k]+' '+place_dict[k+1]+' ')\n",
    "    final.reverse()\n",
    "    number = ' '\n",
    "    for f in range(len(final)):\n",
    "        number += final[f]\n",
    "    return number"
   ]
  },
  {
   "cell_type": "code",
   "execution_count": 154,
   "metadata": {},
   "outputs": [
    {
     "name": "stdout",
     "output_type": "stream",
     "text": [
      "1000000\n"
     ]
    },
    {
     "ename": "KeyError",
     "evalue": "0",
     "output_type": "error",
     "traceback": [
      "\u001b[1;31m---------------------------------------------------------------------------\u001b[0m",
      "\u001b[1;31mKeyError\u001b[0m                                  Traceback (most recent call last)",
      "\u001b[1;32m<ipython-input-154-a3f7463fb3ae>\u001b[0m in \u001b[0;36m<module>\u001b[1;34m\u001b[0m\n\u001b[0;32m      2\u001b[0m \u001b[1;31m#make sure it is adding place values for zeroes (ie. 1,000,000 shouldn't return 'one hundred')\u001b[0m\u001b[1;33m\u001b[0m\u001b[1;33m\u001b[0m\u001b[1;33m\u001b[0m\u001b[0m\n\u001b[0;32m      3\u001b[0m \u001b[0mnum\u001b[0m \u001b[1;33m=\u001b[0m \u001b[0minput\u001b[0m\u001b[1;33m(\u001b[0m\u001b[1;33m)\u001b[0m\u001b[1;33m\u001b[0m\u001b[1;33m\u001b[0m\u001b[0m\n\u001b[1;32m----> 4\u001b[1;33m \u001b[0mprint_english\u001b[0m\u001b[1;33m(\u001b[0m\u001b[0mnum\u001b[0m\u001b[1;33m)\u001b[0m\u001b[1;33m\u001b[0m\u001b[1;33m\u001b[0m\u001b[0m\n\u001b[0m",
      "\u001b[1;32m<ipython-input-152-d1fb338f225c>\u001b[0m in \u001b[0;36mprint_english\u001b[1;34m(num)\u001b[0m\n\u001b[0;32m     25\u001b[0m             \u001b[1;32melse\u001b[0m\u001b[1;33m:\u001b[0m\u001b[1;33m\u001b[0m\u001b[1;33m\u001b[0m\u001b[0m\n\u001b[0;32m     26\u001b[0m                 hundred_list.append(my_dict[int(tuples[i][0])]+' '+place_dict[1]+' '+\n\u001b[1;32m---> 27\u001b[1;33m                                     tens_dict[int(tuples[i][1])]+' '+my_dict[int(tuples[i][2])])\n\u001b[0m\u001b[0;32m     28\u001b[0m     \u001b[0mhundred_list\u001b[0m\u001b[1;33m.\u001b[0m\u001b[0mreverse\u001b[0m\u001b[1;33m(\u001b[0m\u001b[1;33m)\u001b[0m\u001b[1;33m\u001b[0m\u001b[1;33m\u001b[0m\u001b[0m\n\u001b[0;32m     29\u001b[0m     \u001b[0mfinal\u001b[0m \u001b[1;33m=\u001b[0m \u001b[1;33m[\u001b[0m\u001b[1;33m]\u001b[0m\u001b[1;33m\u001b[0m\u001b[1;33m\u001b[0m\u001b[0m\n",
      "\u001b[1;31mKeyError\u001b[0m: 0"
     ]
    }
   ],
   "source": [
    "#need to work on 1 trillion\n",
    "#make sure it is adding place values for zeroes (ie. 1,000,000 shouldn't return 'one hundred')\n",
    "num = input()\n",
    "print_english(num)"
   ]
  },
  {
   "cell_type": "code",
   "execution_count": null,
   "metadata": {},
   "outputs": [],
   "source": []
  }
 ],
 "metadata": {
  "kernelspec": {
   "display_name": "Python 3",
   "language": "python",
   "name": "python3"
  },
  "language_info": {
   "codemirror_mode": {
    "name": "ipython",
    "version": 3
   },
   "file_extension": ".py",
   "mimetype": "text/x-python",
   "name": "python",
   "nbconvert_exporter": "python",
   "pygments_lexer": "ipython3",
   "version": "3.7.3"
  }
 },
 "nbformat": 4,
 "nbformat_minor": 4
}
